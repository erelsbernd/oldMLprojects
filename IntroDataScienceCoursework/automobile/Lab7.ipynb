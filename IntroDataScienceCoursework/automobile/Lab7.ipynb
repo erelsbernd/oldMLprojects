{
 "cells": [
  {
   "cell_type": "code",
   "execution_count": 1,
   "metadata": {
    "collapsed": true
   },
   "outputs": [],
   "source": [
    "import pandas as pd\n",
    "import matplotlib as plt\n"
   ]
  },
  {
   "cell_type": "code",
   "execution_count": null,
   "metadata": {
    "collapsed": true
   },
   "outputs": [],
   "source": [
    "movie1\n",
    "\n",
    "movie1[‘budget_per_imdb’] = movie1[‘budget’]/movie1[‘imdb_score’]\n",
    "movie1.head()\n",
    "\n",
    "movie1.dtypes\n",
    "\n",
    "movie1.shape\n",
    "\n",
    "movie1.describe()\n",
    "\n",
    "\n",
    "movie1.describe(include=[‘object’])\n",
    "\n",
    "movie1[[‘director_name’, ‘imdb_score’]]\n",
    "\n",
    "movie1_plot = movie1[[‘director_name’, ‘imdb_score’]].head(50).groupby(‘director_name’).mean()\n",
    "#movie1[[‘director_name’, ‘imdb_score’]].head(50).groupby(‘director_name’).mean()"
   ]
  }
 ],
 "metadata": {
  "kernelspec": {
   "display_name": "Python 3",
   "language": "python",
   "name": "python3"
  },
  "language_info": {
   "codemirror_mode": {
    "name": "ipython",
    "version": 3
   },
   "file_extension": ".py",
   "mimetype": "text/x-python",
   "name": "python",
   "nbconvert_exporter": "python",
   "pygments_lexer": "ipython3",
   "version": "3.5.2"
  }
 },
 "nbformat": 4,
 "nbformat_minor": 0
}
