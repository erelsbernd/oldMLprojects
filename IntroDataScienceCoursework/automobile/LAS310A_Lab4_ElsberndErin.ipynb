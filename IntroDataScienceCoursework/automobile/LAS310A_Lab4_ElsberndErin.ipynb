{
 "cells": [
  {
   "cell_type": "markdown",
   "metadata": {},
   "source": [
    "# Program to Display Final Letter Grade Given Final Points"
   ]
  },
  {
   "cell_type": "markdown",
   "metadata": {},
   "source": [
    "Letter_grade(final_points)\n",
    "92.5 – 100 Your points: 95.0 Your letter grade: A, good job!\n",
    "\n",
    "82.5 – 92.4 Your points: 85.0 Your letter grade: B\n",
    "\n",
    "72.5 – 82.4 Your points: 75.0 Your letter grade: C\n",
    "\n",
    "62.5 – 72.4 Your points: 65.0 Your letter grade: D\n",
    "\n",
    "0 – 62.4 Your points: 25.0 Your letter grade: F, Sorry you fail"
   ]
  },
  {
   "cell_type": "code",
   "execution_count": 1,
   "metadata": {
    "collapsed": true
   },
   "outputs": [],
   "source": [
    "def Letter_grade(final_points):\n",
    "    if (final_points >= 92.5) :\n",
    "        finalGrade = 'A'\n",
    "        print(\"Your points:\", final_points, \"Your letter grade: A, good job!\")\n",
    "    elif (final_points >=82.5):\n",
    "        finalGrade = 'B'\n",
    "        print(\"Your points:\", final_points, \"Your letter grade: B\")\n",
    "    elif (final_points >=72.5):\n",
    "        finalGrade = 'C'\n",
    "        print(\"Your points:\", final_points, \"Your letter grade: C\")\n",
    "    elif (final_points >=62.5):\n",
    "        finalGrade = 'D'\n",
    "        print(\"Your points:\", final_points, \"Your letter grade: D\")\n",
    "    else:\n",
    "        finalGrade = 'F'\n",
    "        print(\"Your points:\", final_points, \"Your letter grade: F, Sorry you fail\")\n",
    "    return finalGrade"
   ]
  },
  {
   "cell_type": "code",
   "execution_count": 2,
   "metadata": {
    "collapsed": false
   },
   "outputs": [
    {
     "name": "stdout",
     "output_type": "stream",
     "text": [
      "What is your final points?: \n",
      "56\n"
     ]
    }
   ],
   "source": [
    "print(\"What is your final points?: \")\n",
    "finalPoints = float(input())"
   ]
  },
  {
   "cell_type": "code",
   "execution_count": 6,
   "metadata": {
    "collapsed": false
   },
   "outputs": [
    {
     "name": "stdout",
     "output_type": "stream",
     "text": [
      "What is your final points?: \n",
      "89\n",
      "Your points: 89.0 Your letter grade: B\n",
      "Do you have more student's final points?: yes\n",
      "What is your final points?: \n",
      "56\n",
      "Your points: 56.0 Your letter grade: F, Sorry you fail\n",
      "Do you have more student's final points?: no\n",
      "Grade report complete. Your final letter grade is F\n"
     ]
    }
   ],
   "source": [
    "response = \"yes\"\n",
    "while len(response) == 3:\n",
    "    print(\"What is your final points?: \")\n",
    "    finalPoints = float(input())\n",
    "    finalGrade = Letter_grade(finalPoints)\n",
    "    response = input(\"Do you have more student's final points?: \")\n",
    "print(\"Grade report complete. Your final letter grade is\", finalGrade)"
   ]
  },
  {
   "cell_type": "markdown",
   "metadata": {
    "collapsed": true
   },
   "source": []
  }
 ],
 "metadata": {
  "kernelspec": {
   "display_name": "Python 3",
   "language": "python",
   "name": "python3"
  },
  "language_info": {
   "codemirror_mode": {
    "name": "ipython",
    "version": 3
   },
   "file_extension": ".py",
   "mimetype": "text/x-python",
   "name": "python",
   "nbconvert_exporter": "python",
   "pygments_lexer": "ipython3",
   "version": "3.5.2"
  }
 },
 "nbformat": 4,
 "nbformat_minor": 0
}
