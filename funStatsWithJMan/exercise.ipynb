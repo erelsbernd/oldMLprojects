{
 "cells": [
  {
   "cell_type": "code",
   "execution_count": 10,
   "metadata": {
    "collapsed": true
   },
   "outputs": [],
   "source": [
    "import pandas as pd\n",
    "import numpy as np\n",
    "import random\n",
    "from itertools import groupby\n",
    "\n",
    "import matplotlib.pyplot as plt\n",
    "%matplotlib inline"
   ]
  },
  {
   "cell_type": "code",
   "execution_count": 2,
   "metadata": {
    "collapsed": false
   },
   "outputs": [
    {
     "data": {
      "text/plain": [
       "DatetimeIndex(['2014-11-01', '2014-11-02', '2014-11-03', '2014-11-04',\n",
       "               '2014-11-05', '2014-11-06', '2014-11-07', '2014-11-08',\n",
       "               '2014-11-09', '2014-11-10',\n",
       "               ...\n",
       "               '2015-10-22', '2015-10-23', '2015-10-24', '2015-10-25',\n",
       "               '2015-10-26', '2015-10-27', '2015-10-28', '2015-10-29',\n",
       "               '2015-10-30', '2015-10-31'],\n",
       "              dtype='datetime64[ns]', length=365, freq='D')"
      ]
     },
     "execution_count": 2,
     "metadata": {},
     "output_type": "execute_result"
    }
   ],
   "source": [
    "# 365 days starting with November 1, 2014\n",
    "rng = pd.date_range('11/1/2014', periods=365, freq='D')\n",
    "rng"
   ]
  },
  {
   "cell_type": "code",
   "execution_count": 3,
   "metadata": {
    "collapsed": false
   },
   "outputs": [
    {
     "data": {
      "text/html": [
       "<div>\n",
       "<table border=\"1\" class=\"dataframe\">\n",
       "  <thead>\n",
       "    <tr style=\"text-align: right;\">\n",
       "      <th></th>\n",
       "      <th>2014-11-01 00:00:00</th>\n",
       "      <th>2014-11-02 00:00:00</th>\n",
       "      <th>2014-11-03 00:00:00</th>\n",
       "      <th>2014-11-04 00:00:00</th>\n",
       "      <th>2014-11-05 00:00:00</th>\n",
       "      <th>2014-11-06 00:00:00</th>\n",
       "      <th>2014-11-07 00:00:00</th>\n",
       "      <th>2014-11-08 00:00:00</th>\n",
       "      <th>2014-11-09 00:00:00</th>\n",
       "      <th>2014-11-10 00:00:00</th>\n",
       "      <th>...</th>\n",
       "      <th>2015-10-22 00:00:00</th>\n",
       "      <th>2015-10-23 00:00:00</th>\n",
       "      <th>2015-10-24 00:00:00</th>\n",
       "      <th>2015-10-25 00:00:00</th>\n",
       "      <th>2015-10-26 00:00:00</th>\n",
       "      <th>2015-10-27 00:00:00</th>\n",
       "      <th>2015-10-28 00:00:00</th>\n",
       "      <th>2015-10-29 00:00:00</th>\n",
       "      <th>2015-10-30 00:00:00</th>\n",
       "      <th>2015-10-31 00:00:00</th>\n",
       "    </tr>\n",
       "  </thead>\n",
       "  <tbody>\n",
       "    <tr>\n",
       "      <th>0</th>\n",
       "      <td>3039</td>\n",
       "      <td>4963</td>\n",
       "      <td>1880</td>\n",
       "      <td>6720</td>\n",
       "      <td>7823</td>\n",
       "      <td>5586</td>\n",
       "      <td>8997</td>\n",
       "      <td>3030</td>\n",
       "      <td>8282</td>\n",
       "      <td>4699</td>\n",
       "      <td>...</td>\n",
       "      <td>1214</td>\n",
       "      <td>2478</td>\n",
       "      <td>2976</td>\n",
       "      <td>6332</td>\n",
       "      <td>9039</td>\n",
       "      <td>9217</td>\n",
       "      <td>9007</td>\n",
       "      <td>8277</td>\n",
       "      <td>1301</td>\n",
       "      <td>7687</td>\n",
       "    </tr>\n",
       "    <tr>\n",
       "      <th>1</th>\n",
       "      <td>6390</td>\n",
       "      <td>2996</td>\n",
       "      <td>4506</td>\n",
       "      <td>4868</td>\n",
       "      <td>6895</td>\n",
       "      <td>6106</td>\n",
       "      <td>2120</td>\n",
       "      <td>9979</td>\n",
       "      <td>6839</td>\n",
       "      <td>2804</td>\n",
       "      <td>...</td>\n",
       "      <td>1290</td>\n",
       "      <td>3771</td>\n",
       "      <td>8529</td>\n",
       "      <td>9476</td>\n",
       "      <td>3849</td>\n",
       "      <td>4036</td>\n",
       "      <td>9278</td>\n",
       "      <td>5368</td>\n",
       "      <td>6925</td>\n",
       "      <td>6026</td>\n",
       "    </tr>\n",
       "    <tr>\n",
       "      <th>2</th>\n",
       "      <td>7591</td>\n",
       "      <td>2101</td>\n",
       "      <td>3685</td>\n",
       "      <td>9723</td>\n",
       "      <td>6136</td>\n",
       "      <td>3396</td>\n",
       "      <td>2307</td>\n",
       "      <td>2539</td>\n",
       "      <td>3304</td>\n",
       "      <td>3184</td>\n",
       "      <td>...</td>\n",
       "      <td>8404</td>\n",
       "      <td>9547</td>\n",
       "      <td>6365</td>\n",
       "      <td>5636</td>\n",
       "      <td>6095</td>\n",
       "      <td>8586</td>\n",
       "      <td>5676</td>\n",
       "      <td>5196</td>\n",
       "      <td>8947</td>\n",
       "      <td>4183</td>\n",
       "    </tr>\n",
       "    <tr>\n",
       "      <th>3</th>\n",
       "      <td>5400</td>\n",
       "      <td>5401</td>\n",
       "      <td>8778</td>\n",
       "      <td>8134</td>\n",
       "      <td>3515</td>\n",
       "      <td>9622</td>\n",
       "      <td>9833</td>\n",
       "      <td>6944</td>\n",
       "      <td>9219</td>\n",
       "      <td>4815</td>\n",
       "      <td>...</td>\n",
       "      <td>3005</td>\n",
       "      <td>5656</td>\n",
       "      <td>9819</td>\n",
       "      <td>8790</td>\n",
       "      <td>8529</td>\n",
       "      <td>3500</td>\n",
       "      <td>2138</td>\n",
       "      <td>4299</td>\n",
       "      <td>3978</td>\n",
       "      <td>9118</td>\n",
       "    </tr>\n",
       "    <tr>\n",
       "      <th>4</th>\n",
       "      <td>6626</td>\n",
       "      <td>2871</td>\n",
       "      <td>2418</td>\n",
       "      <td>4984</td>\n",
       "      <td>2005</td>\n",
       "      <td>6554</td>\n",
       "      <td>1528</td>\n",
       "      <td>2655</td>\n",
       "      <td>4773</td>\n",
       "      <td>8606</td>\n",
       "      <td>...</td>\n",
       "      <td>8744</td>\n",
       "      <td>3414</td>\n",
       "      <td>9406</td>\n",
       "      <td>3638</td>\n",
       "      <td>6845</td>\n",
       "      <td>8794</td>\n",
       "      <td>7163</td>\n",
       "      <td>4490</td>\n",
       "      <td>2156</td>\n",
       "      <td>5564</td>\n",
       "    </tr>\n",
       "  </tbody>\n",
       "</table>\n",
       "<p>5 rows × 365 columns</p>\n",
       "</div>"
      ],
      "text/plain": [
       "   2014-11-01  2014-11-02  2014-11-03  2014-11-04  2014-11-05  2014-11-06  \\\n",
       "0        3039        4963        1880        6720        7823        5586   \n",
       "1        6390        2996        4506        4868        6895        6106   \n",
       "2        7591        2101        3685        9723        6136        3396   \n",
       "3        5400        5401        8778        8134        3515        9622   \n",
       "4        6626        2871        2418        4984        2005        6554   \n",
       "\n",
       "   2014-11-07  2014-11-08  2014-11-09  2014-11-10     ...      2015-10-22  \\\n",
       "0        8997        3030        8282        4699     ...            1214   \n",
       "1        2120        9979        6839        2804     ...            1290   \n",
       "2        2307        2539        3304        3184     ...            8404   \n",
       "3        9833        6944        9219        4815     ...            3005   \n",
       "4        1528        2655        4773        8606     ...            8744   \n",
       "\n",
       "   2015-10-23  2015-10-24  2015-10-25  2015-10-26  2015-10-27  2015-10-28  \\\n",
       "0        2478        2976        6332        9039        9217        9007   \n",
       "1        3771        8529        9476        3849        4036        9278   \n",
       "2        9547        6365        5636        6095        8586        5676   \n",
       "3        5656        9819        8790        8529        3500        2138   \n",
       "4        3414        9406        3638        6845        8794        7163   \n",
       "\n",
       "   2015-10-29  2015-10-30  2015-10-31  \n",
       "0        8277        1301        7687  \n",
       "1        5368        6925        6026  \n",
       "2        5196        8947        4183  \n",
       "3        4299        3978        9118  \n",
       "4        4490        2156        5564  \n",
       "\n",
       "[5 rows x 365 columns]"
      ]
     },
     "execution_count": 3,
     "metadata": {},
     "output_type": "execute_result"
    }
   ],
   "source": [
    "# generate dataframe with random integer elements between 1000 and 10000 of\n",
    "# size 100 rows by 365 columns\n",
    "df = pd.DataFrame(np.random.randint(1000,10000,size=(100, 365)), columns=rng)\n",
    "df.head()"
   ]
  },
  {
   "cell_type": "code",
   "execution_count": 4,
   "metadata": {
    "collapsed": false
   },
   "outputs": [],
   "source": [
    "max_options = [110000,  160000, 115000, 130000, 120000]\n",
    "max_list = []\n",
    "\n",
    "for i in range(100):\n",
    "    max_list.append(random.choice(max_options))"
   ]
  },
  {
   "cell_type": "code",
   "execution_count": 5,
   "metadata": {
    "collapsed": false
   },
   "outputs": [],
   "source": [
    "df.insert(0,'MaxCapacity',max_list)\n",
    "df_sorted = df.sort_values(by = 'MaxCapacity')"
   ]
  },
  {
   "cell_type": "code",
   "execution_count": 6,
   "metadata": {
    "collapsed": false
   },
   "outputs": [
    {
     "data": {
      "text/html": [
       "<div>\n",
       "<table border=\"1\" class=\"dataframe\">\n",
       "  <thead>\n",
       "    <tr style=\"text-align: right;\">\n",
       "      <th></th>\n",
       "      <th>MaxCapacity</th>\n",
       "      <th>2014-11-01 00:00:00</th>\n",
       "      <th>2014-11-02 00:00:00</th>\n",
       "      <th>2014-11-03 00:00:00</th>\n",
       "      <th>2014-11-04 00:00:00</th>\n",
       "      <th>2014-11-05 00:00:00</th>\n",
       "      <th>2014-11-06 00:00:00</th>\n",
       "      <th>2014-11-07 00:00:00</th>\n",
       "      <th>2014-11-08 00:00:00</th>\n",
       "      <th>2014-11-09 00:00:00</th>\n",
       "      <th>...</th>\n",
       "      <th>2015-10-22 00:00:00</th>\n",
       "      <th>2015-10-23 00:00:00</th>\n",
       "      <th>2015-10-24 00:00:00</th>\n",
       "      <th>2015-10-25 00:00:00</th>\n",
       "      <th>2015-10-26 00:00:00</th>\n",
       "      <th>2015-10-27 00:00:00</th>\n",
       "      <th>2015-10-28 00:00:00</th>\n",
       "      <th>2015-10-29 00:00:00</th>\n",
       "      <th>2015-10-30 00:00:00</th>\n",
       "      <th>2015-10-31 00:00:00</th>\n",
       "    </tr>\n",
       "  </thead>\n",
       "  <tbody>\n",
       "    <tr>\n",
       "      <th>36</th>\n",
       "      <td>110000</td>\n",
       "      <td>7950</td>\n",
       "      <td>6608</td>\n",
       "      <td>3981</td>\n",
       "      <td>3624</td>\n",
       "      <td>2410</td>\n",
       "      <td>2892</td>\n",
       "      <td>7497</td>\n",
       "      <td>2362</td>\n",
       "      <td>6644</td>\n",
       "      <td>...</td>\n",
       "      <td>2953</td>\n",
       "      <td>8836</td>\n",
       "      <td>4361</td>\n",
       "      <td>4934</td>\n",
       "      <td>7997</td>\n",
       "      <td>7570</td>\n",
       "      <td>5662</td>\n",
       "      <td>1121</td>\n",
       "      <td>3073</td>\n",
       "      <td>5231</td>\n",
       "    </tr>\n",
       "    <tr>\n",
       "      <th>26</th>\n",
       "      <td>110000</td>\n",
       "      <td>4275</td>\n",
       "      <td>8569</td>\n",
       "      <td>4777</td>\n",
       "      <td>8199</td>\n",
       "      <td>9980</td>\n",
       "      <td>5784</td>\n",
       "      <td>5051</td>\n",
       "      <td>9089</td>\n",
       "      <td>4536</td>\n",
       "      <td>...</td>\n",
       "      <td>6843</td>\n",
       "      <td>3050</td>\n",
       "      <td>1784</td>\n",
       "      <td>8633</td>\n",
       "      <td>7462</td>\n",
       "      <td>9875</td>\n",
       "      <td>5936</td>\n",
       "      <td>2764</td>\n",
       "      <td>4824</td>\n",
       "      <td>6939</td>\n",
       "    </tr>\n",
       "    <tr>\n",
       "      <th>55</th>\n",
       "      <td>110000</td>\n",
       "      <td>1624</td>\n",
       "      <td>7273</td>\n",
       "      <td>2923</td>\n",
       "      <td>7447</td>\n",
       "      <td>1889</td>\n",
       "      <td>3877</td>\n",
       "      <td>7269</td>\n",
       "      <td>1158</td>\n",
       "      <td>8681</td>\n",
       "      <td>...</td>\n",
       "      <td>6105</td>\n",
       "      <td>1693</td>\n",
       "      <td>7497</td>\n",
       "      <td>1604</td>\n",
       "      <td>4954</td>\n",
       "      <td>3690</td>\n",
       "      <td>1770</td>\n",
       "      <td>5974</td>\n",
       "      <td>2726</td>\n",
       "      <td>4299</td>\n",
       "    </tr>\n",
       "    <tr>\n",
       "      <th>20</th>\n",
       "      <td>110000</td>\n",
       "      <td>1729</td>\n",
       "      <td>5312</td>\n",
       "      <td>6217</td>\n",
       "      <td>3375</td>\n",
       "      <td>9507</td>\n",
       "      <td>6263</td>\n",
       "      <td>7835</td>\n",
       "      <td>5690</td>\n",
       "      <td>2591</td>\n",
       "      <td>...</td>\n",
       "      <td>3684</td>\n",
       "      <td>6121</td>\n",
       "      <td>1095</td>\n",
       "      <td>8090</td>\n",
       "      <td>2084</td>\n",
       "      <td>3173</td>\n",
       "      <td>9554</td>\n",
       "      <td>9729</td>\n",
       "      <td>5761</td>\n",
       "      <td>9200</td>\n",
       "    </tr>\n",
       "    <tr>\n",
       "      <th>46</th>\n",
       "      <td>110000</td>\n",
       "      <td>5723</td>\n",
       "      <td>6446</td>\n",
       "      <td>4319</td>\n",
       "      <td>3172</td>\n",
       "      <td>3681</td>\n",
       "      <td>2260</td>\n",
       "      <td>6526</td>\n",
       "      <td>8370</td>\n",
       "      <td>1637</td>\n",
       "      <td>...</td>\n",
       "      <td>5978</td>\n",
       "      <td>7129</td>\n",
       "      <td>4016</td>\n",
       "      <td>7038</td>\n",
       "      <td>8762</td>\n",
       "      <td>3330</td>\n",
       "      <td>7270</td>\n",
       "      <td>9060</td>\n",
       "      <td>5275</td>\n",
       "      <td>1041</td>\n",
       "    </tr>\n",
       "  </tbody>\n",
       "</table>\n",
       "<p>5 rows × 366 columns</p>\n",
       "</div>"
      ],
      "text/plain": [
       "    MaxCapacity  2014-11-01 00:00:00  2014-11-02 00:00:00  \\\n",
       "36       110000                 7950                 6608   \n",
       "26       110000                 4275                 8569   \n",
       "55       110000                 1624                 7273   \n",
       "20       110000                 1729                 5312   \n",
       "46       110000                 5723                 6446   \n",
       "\n",
       "    2014-11-03 00:00:00  2014-11-04 00:00:00  2014-11-05 00:00:00  \\\n",
       "36                 3981                 3624                 2410   \n",
       "26                 4777                 8199                 9980   \n",
       "55                 2923                 7447                 1889   \n",
       "20                 6217                 3375                 9507   \n",
       "46                 4319                 3172                 3681   \n",
       "\n",
       "    2014-11-06 00:00:00  2014-11-07 00:00:00  2014-11-08 00:00:00  \\\n",
       "36                 2892                 7497                 2362   \n",
       "26                 5784                 5051                 9089   \n",
       "55                 3877                 7269                 1158   \n",
       "20                 6263                 7835                 5690   \n",
       "46                 2260                 6526                 8370   \n",
       "\n",
       "    2014-11-09 00:00:00         ...           2015-10-22 00:00:00  \\\n",
       "36                 6644         ...                          2953   \n",
       "26                 4536         ...                          6843   \n",
       "55                 8681         ...                          6105   \n",
       "20                 2591         ...                          3684   \n",
       "46                 1637         ...                          5978   \n",
       "\n",
       "    2015-10-23 00:00:00  2015-10-24 00:00:00  2015-10-25 00:00:00  \\\n",
       "36                 8836                 4361                 4934   \n",
       "26                 3050                 1784                 8633   \n",
       "55                 1693                 7497                 1604   \n",
       "20                 6121                 1095                 8090   \n",
       "46                 7129                 4016                 7038   \n",
       "\n",
       "    2015-10-26 00:00:00  2015-10-27 00:00:00  2015-10-28 00:00:00  \\\n",
       "36                 7997                 7570                 5662   \n",
       "26                 7462                 9875                 5936   \n",
       "55                 4954                 3690                 1770   \n",
       "20                 2084                 3173                 9554   \n",
       "46                 8762                 3330                 7270   \n",
       "\n",
       "    2015-10-29 00:00:00  2015-10-30 00:00:00  2015-10-31 00:00:00  \n",
       "36                 1121                 3073                 5231  \n",
       "26                 2764                 4824                 6939  \n",
       "55                 5974                 2726                 4299  \n",
       "20                 9729                 5761                 9200  \n",
       "46                 9060                 5275                 1041  \n",
       "\n",
       "[5 rows x 366 columns]"
      ]
     },
     "execution_count": 6,
     "metadata": {},
     "output_type": "execute_result"
    }
   ],
   "source": [
    "df_sorted.head()"
   ]
  },
  {
   "cell_type": "raw",
   "metadata": {},
   "source": [
    "col_names = df.columns"
   ]
  },
  {
   "cell_type": "code",
   "execution_count": 8,
   "metadata": {
    "collapsed": false
   },
   "outputs": [
    {
     "data": {
      "text/plain": [
       "[23, 22, 24, 23, 19, 21, 20, 25, 24, 20, 25, 21, 22, 18, 19, 21]"
      ]
     },
     "execution_count": 8,
     "metadata": {},
     "output_type": "execute_result"
    }
   ],
   "source": [
    "# find how many days it takes to get max capacity for each sample\n",
    "total_count_list = []\n",
    "\n",
    "for index, row in df_sorted.iterrows():\n",
    "    total = 0\n",
    "    counts_list = []\n",
    "    dayCounts = 0\n",
    "    maxC = row[df.columns[0]]\n",
    "    \n",
    "    for x in range(1,365):\n",
    "        total += row[df.columns[x]]\n",
    "        dayCounts += 1\n",
    "        if total >= maxC:\n",
    "            counts_list.append(dayCounts)\n",
    "            dayCounts = 0\n",
    "            total = 0\n",
    "    total_count_list.append(counts_list)\n",
    "total_count_list[0]"
   ]
  },
  {
   "cell_type": "code",
   "execution_count": 21,
   "metadata": {
    "collapsed": false
   },
   "outputs": [],
   "source": [
    "def plot_histogram(x):\n",
    "    days = sorted(set(total_count_list[x]))  #sorted(total_count_list[1])\n",
    "    print(days)\n",
    "    days_freq = [len(list(group)) for key, group in groupby(sorted(total_count_list[x]))]\n",
    "    print(days_freq)\n",
    "\n",
    "    pos = np.arange(len(days))\n",
    "    width = 1.0     # gives histogram aspect to the bar diagram\n",
    "\n",
    "    ax = plt.axes()\n",
    "    ax.set_xticks(pos + (width / 2))\n",
    "    ax.set_xticklabels(days)\n",
    "\n",
    "    plt.bar(pos, days_freq, width, color='r')\n",
    "    plt.show()"
   ]
  },
  {
   "cell_type": "code",
   "execution_count": 22,
   "metadata": {
    "collapsed": false
   },
   "outputs": [
    {
     "name": "stdout",
     "output_type": "stream",
     "text": [
      "[18, 19, 20, 21, 22, 23, 24, 25]\n",
      "[1, 2, 2, 3, 2, 2, 2, 2]\n"
     ]
    },
    {
     "data": {
      "image/png": "[encoded data removed]",
      "text/plain": [
       "<matplotlib.figure.Figure at 0x115a0b6a0>"
      ]
     },
     "metadata": {},
     "output_type": "display_data"
    }
   ],
   "source": [
    "plot_histogram(0)"
   ]
  },
  {
   "cell_type": "code",
   "execution_count": 23,
   "metadata": {
    "collapsed": false
   },
   "outputs": [
    {
     "name": "stdout",
     "output_type": "stream",
     "text": [
      "[16, 17, 18, 19, 20, 21, 22, 24]\n",
      "[1, 2, 1, 3, 1, 5, 4, 1]\n"
     ]
    },
    {
     "data": {
      "image/png": "[encoded data removed]",
      "text/plain": [
       "<matplotlib.figure.Figure at 0x10c73bd30>"
      ]
     },
     "metadata": {},
     "output_type": "display_data"
    }
   ],
   "source": [
    "plot_histogram(1)"
   ]
  },
  {
   "cell_type": "code",
   "execution_count": 24,
   "metadata": {
    "collapsed": false
   },
   "outputs": [
    {
     "name": "stdout",
     "output_type": "stream",
     "text": [
      "[18, 19, 20, 21, 22, 23, 24]\n",
      "[1, 3, 3, 4, 4, 1, 1]\n"
     ]
    },
    {
     "data": {
      "image/png": "[encoded data removed]",
      "text/plain": [
       "<matplotlib.figure.Figure at 0x115c00a20>"
      ]
     },
     "metadata": {},
     "output_type": "display_data"
    }
   ],
   "source": [
    "plot_histogram(2)"
   ]
  },
  {
   "cell_type": "code",
   "execution_count": 25,
   "metadata": {
    "collapsed": false
   },
   "outputs": [
    {
     "name": "stdout",
     "output_type": "stream",
     "text": [
      "[17, 19, 20, 21, 22, 23]\n",
      "[1, 4, 6, 5, 1, 1]\n"
     ]
    },
    {
     "data": {
      "image/png": "[encoded data removed]",
      "text/plain": [
       "<matplotlib.figure.Figure at 0x115c00908>"
      ]
     },
     "metadata": {},
     "output_type": "display_data"
    }
   ],
   "source": [
    "plot_histogram(3)"
   ]
  },
  {
   "cell_type": "code",
   "execution_count": 26,
   "metadata": {
    "collapsed": false
   },
   "outputs": [
    {
     "name": "stdout",
     "output_type": "stream",
     "text": [
      "[17, 18, 19, 20, 21, 22, 23, 25, 27]\n",
      "[1, 2, 2, 4, 3, 2, 1, 1, 1]\n"
     ]
    },
    {
     "data": {
      "image/png": "[encoded data removed]",
      "text/plain": [
       "<matplotlib.figure.Figure at 0x1156edfd0>"
      ]
     },
     "metadata": {},
     "output_type": "display_data"
    }
   ],
   "source": [
    "plot_histogram(4)"
   ]
  },
  {
   "cell_type": "code",
   "execution_count": 27,
   "metadata": {
    "collapsed": false
   },
   "outputs": [
    {
     "name": "stdout",
     "output_type": "stream",
     "text": [
      "[17, 18, 19, 20, 21, 22, 23, 25]\n",
      "[1, 3, 2, 2, 3, 2, 3, 1]\n"
     ]
    },
    {
     "data": {
      "image/png": "[encoded data removed]",
      "text/plain": [
       "<matplotlib.figure.Figure at 0x111d08588>"
      ]
     },
     "metadata": {},
     "output_type": "display_data"
    }
   ],
   "source": [
    "plot_histogram(5)"
   ]
  },
  {
   "cell_type": "code",
   "execution_count": 28,
   "metadata": {
    "collapsed": false
   },
   "outputs": [
    {
     "name": "stdout",
     "output_type": "stream",
     "text": [
      "[16, 17, 19, 20, 21, 22, 23, 24, 25]\n",
      "[1, 1, 2, 1, 2, 5, 3, 1, 1]\n"
     ]
    },
    {
     "data": {
      "image/png": "[encoded data removed]",
      "text/plain": [
       "<matplotlib.figure.Figure at 0x115a0eb70>"
      ]
     },
     "metadata": {},
     "output_type": "display_data"
    }
   ],
   "source": [
    "plot_histogram(6)"
   ]
  },
  {
   "cell_type": "code",
   "execution_count": 35,
   "metadata": {
    "collapsed": false
   },
   "outputs": [
    {
     "name": "stdout",
     "output_type": "stream",
     "text": [
      "[ -2.8111762    9.54988314   5.96198816   6.7681048    7.75526274\n",
      "   1.61489591   6.30676759   8.49873058   6.27860941   3.08162147\n",
      "  11.49810206   7.40715844   3.44379655  10.06220782   2.16114893\n",
      "   8.13997028   4.35773276   5.28679355  -1.80118769   1.64772851\n",
      "   9.57273393   1.66897344   5.13367514   3.13919202  -1.44272509\n",
      "   3.70918103   0.8788308    5.57616382   6.36534772   3.95757136\n",
      "   6.57581476   7.37984523   6.98365671   1.27547322   3.83576461\n",
      "   5.9239005    8.5420829    4.41851636   4.58180618   4.95044408\n",
      "   2.52334429   5.57586091   6.86169075  -2.38414781   9.10201191\n",
      "   4.75435763   1.33170638   2.2444933    0.95385282   4.77576134\n",
      "   5.82937012   6.00800962   1.21875509   3.70178157  10.87423138\n",
      "   9.87825084   7.45905221  -0.45189752   5.20520746   4.26846916\n",
      "   4.10675638   4.22158936   5.86245917   6.77397145   1.79315987\n",
      "   3.25022988   7.79335142  10.63033545  13.28179087   6.49783011\n",
      "   4.83687382   9.33946455  -0.37551861   5.17429305   1.24290425\n",
      "   3.21271839   8.94288893   8.32830199   2.8649576    3.73871797\n",
      "   2.02505764   2.93408316   6.1996546    3.02930503   0.57519569\n",
      "   5.51355333   4.06704466   4.45611164   6.41006826  -1.77473837\n",
      "   3.66312615   7.06404213   4.82720089   4.15436363   3.37079188\n",
      "   2.90491593   7.90628144   3.80253572   4.01699782   6.66757238]\n"
     ]
    },
    {
     "data": {
      "text/plain": [
       "(4.8129478850250687, 3.1392748531003538)"
      ]
     },
     "execution_count": 35,
     "metadata": {},
     "output_type": "execute_result"
    }
   ],
   "source": [
    "x = 5 + 3 * np.random.randn(100) # Generate from a N(5, 9) distribution\n",
    "import scipy.stats as st\n",
    "\n",
    "print(x)\n",
    "results = st.norm.fit(x)\n",
    "results"
   ]
  },
  {
   "cell_type": "code",
   "execution_count": 36,
   "metadata": {
    "collapsed": false
   },
   "outputs": [
    {
     "data": {
      "text/plain": [
       "(4.8129478850250687, 3.1392748531003538)"
      ]
     },
     "execution_count": 36,
     "metadata": {},
     "output_type": "execute_result"
    }
   ],
   "source": [
    "np.mean(x), np.std(x, ddof=0)"
   ]
  },
  {
   "cell_type": "code",
   "execution_count": 40,
   "metadata": {
    "collapsed": false
   },
   "outputs": [
    {
     "data": {
      "text/plain": [
       "(21.6875, 2.4165768661476505)"
      ]
     },
     "execution_count": 40,
     "metadata": {},
     "output_type": "execute_result"
    }
   ],
   "source": [
    "x = total_count_list[18]\n",
    "results = st.norm.fit(total_count_list[18])\n",
    "results"
   ]
  },
  {
   "cell_type": "code",
   "execution_count": 41,
   "metadata": {
    "collapsed": false
   },
   "outputs": [
    {
     "data": {
      "text/plain": [
       "(21.6875, 2.4165768661476505)"
      ]
     },
     "execution_count": 41,
     "metadata": {},
     "output_type": "execute_result"
    }
   ],
   "source": [
    "np.mean(x), np.std(x, ddof=0)"
   ]
  },
  {
   "cell_type": "code",
   "execution_count": null,
   "metadata": {
    "collapsed": true
   },
   "outputs": [],
   "source": []
  }
 ],
 "metadata": {
  "kernelspec": {
   "display_name": "Python 3",
   "language": "python",
   "name": "python3"
  },
  "language_info": {
   "codemirror_mode": {
    "name": "ipython",
    "version": 3
   },
   "file_extension": ".py",
   "mimetype": "text/x-python",
   "name": "python",
   "nbconvert_exporter": "python",
   "pygments_lexer": "ipython3",
   "version": "3.5.2"
  }
 },
 "nbformat": 4,
 "nbformat_minor": 0
}
