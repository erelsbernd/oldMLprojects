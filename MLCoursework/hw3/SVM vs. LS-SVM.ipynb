{
 "cells": [
  {
   "cell_type": "markdown",
   "metadata": {},
   "source": [
    "Compare SVM and LS-SVM (and decide on the kernel function) on the ozon level detec-\n",
    "tion data set on Blackboard (see https://archive.ics.uci.edu/ml/datasets/Ozone+Level+Detection). This data set contains 72 measurement variables and was measured between 1/1/1998 and 12/31/2004.\n",
    "All missing values have been removed. The goal is to detect detect whether there was too much\n",
    "ozon (class label 0) or a normal day (class label 1). The class label is the last variable. Set up\n",
    "the simulation and clearly describe what you are doing and why. Finally, state, according to your\n",
    "findings (boxplots, ROC curves, etc.), the best classifier for this problem."
   ]
  },
  {
   "cell_type": "code",
   "execution_count": 1,
   "metadata": {
    "collapsed": true
   },
   "outputs": [],
   "source": [
    "import numpy as np\n",
    "import pandas as pd\n",
    "import matplotlib.pyplot as plt\n",
    "from sklearn import svm\n",
    "from sklearn.cross_validation import train_test_split\n",
    "from sklearn import metrics\n",
    "from sklearn import grid_search\n",
    "from sklearn.cross_validation import cross_val_score\n",
    "from scipy.stats import uniform\n",
    "from scipy.stats import norm\n",
    "from sklearn.grid_search import RandomizedSearchCV\n",
    "from sklearn.grid_search import GridSearchCV\n",
    "from sklearn.svm import SVC\n",
    "from sklearn import preprocessing\n",
    "%matplotlib inline"
   ]
  },
  {
   "cell_type": "code",
   "execution_count": 1,
   "metadata": {
    "collapsed": false
   },
   "outputs": [
    {
     "ename": "NameError",
     "evalue": "name 'pd' is not defined",
     "output_type": "error",
     "traceback": [
      "\u001b[0;31m---------------------------------------------------------------------------\u001b[0m",
      "\u001b[0;31mNameError\u001b[0m                                 Traceback (most recent call last)",
      "\u001b[0;32m<ipython-input-1-7c7aa0a9718f>\u001b[0m in \u001b[0;36m<module>\u001b[0;34m()\u001b[0m\n\u001b[1;32m      1\u001b[0m \u001b[0;31m# load data in dataframe\u001b[0m\u001b[0;34m\u001b[0m\u001b[0;34m\u001b[0m\u001b[0m\n\u001b[1;32m      2\u001b[0m \u001b[0mcol_names\u001b[0m \u001b[0;34m=\u001b[0m \u001b[0;34m[\u001b[0m\u001b[0;34m'X'\u001b[0m \u001b[0;34m+\u001b[0m \u001b[0mstr\u001b[0m\u001b[0;34m(\u001b[0m\u001b[0mi\u001b[0m\u001b[0;34m)\u001b[0m \u001b[0;32mfor\u001b[0m \u001b[0mi\u001b[0m \u001b[0;32min\u001b[0m \u001b[0mrange\u001b[0m\u001b[0;34m(\u001b[0m\u001b[0;36m73\u001b[0m\u001b[0;34m)\u001b[0m\u001b[0;34m]\u001b[0m\u001b[0;34m\u001b[0m\u001b[0m\n\u001b[0;32m----> 3\u001b[0;31m \u001b[0mdata\u001b[0m \u001b[0;34m=\u001b[0m \u001b[0mpd\u001b[0m\u001b[0;34m.\u001b[0m\u001b[0mread_excel\u001b[0m\u001b[0;34m(\u001b[0m\u001b[0;34m\"ozon.xlsx\"\u001b[0m\u001b[0;34m,\u001b[0m \u001b[0mheader\u001b[0m \u001b[0;34m=\u001b[0m \u001b[0;32mNone\u001b[0m\u001b[0;34m,\u001b[0m \u001b[0mnames\u001b[0m \u001b[0;34m=\u001b[0m \u001b[0mcol_names\u001b[0m\u001b[0;34m)\u001b[0m\u001b[0;34m\u001b[0m\u001b[0m\n\u001b[0m\u001b[1;32m      4\u001b[0m \u001b[0mdata\u001b[0m\u001b[0;34m.\u001b[0m\u001b[0mhead\u001b[0m\u001b[0;34m(\u001b[0m\u001b[0;34m)\u001b[0m\u001b[0;34m\u001b[0m\u001b[0m\n",
      "\u001b[0;31mNameError\u001b[0m: name 'pd' is not defined"
     ]
    }
   ],
   "source": [
    "# load data in dataframe\n",
    "col_names = ['X' + str(i) for i in range(73)]\n",
    "data = pd.read_excel(\"ozon.xlsx\", header = None, names = col_names)"
   ]
  },
  {
   "cell_type": "code",
   "execution_count": 3,
   "metadata": {
    "collapsed": false
   },
   "outputs": [],
   "source": [
    "#define x and y\n",
    "feature_cols = ['X' + str(i) for i in range(72)]\n",
    "x = data[feature_cols]\n",
    "y = data.X72\n",
    "data['X72'] = data['X72'].replace([0, 1], [-1, 1]) \n",
    "y = data.X72\n",
    "#data.shape"
   ]
  },
  {
   "cell_type": "markdown",
   "metadata": {},
   "source": [
    "### Find optimal hyper-parameters for kernel, c, and gamma in SVM using randomized search cv\n",
    "Using linear, rbf, and polynomial kernels. For each kernel, run 100 simulations using randomizedSearchCV, we will then plot the ROC of each to see the accuracy and compare this with ROC of LS-SVM with the same kernels."
   ]
  },
  {
   "cell_type": "markdown",
   "metadata": {},
   "source": [
    "##### Linear Kernel"
   ]
  },
  {
   "cell_type": "code",
   "execution_count": 5,
   "metadata": {
    "collapsed": false
   },
   "outputs": [
    {
     "name": "stdout",
     "output_type": "stream",
     "text": [
      "83.4501\n",
      "0.942133815552\n",
      "0.937613019892\n"
     ]
    }
   ],
   "source": [
    "accuracy_scores = []\n",
    "best_C_arr = []\n",
    "\n",
    "# 100 simulations with rbf\n",
    "for i in range(100): \n",
    "    # split data in training and testing sets 70/30 train/test split\n",
    "    x_train, x_test, y_train, y_test = train_test_split(x, y, test_size = 553, train_size = 1292)\n",
    "\n",
    "    C_range = np.arange(0.0001, 200, 0.05)\n",
    "\n",
    "    # Check that C>0 \n",
    "    C_range[C_range < 0] = 0.0001\n",
    "\n",
    "    hyperparameters = { 'C': list(C_range)}\n",
    "\n",
    "    # Run randomized search with range of hyperparameter values\n",
    "    svm = SVC(kernel='linear', probability=True)\n",
    "    randomCV = RandomizedSearchCV(svm, param_distributions=hyperparameters, n_iter=20)\n",
    "    randomCV.fit(x_train, y_train)\n",
    "\n",
    "    # Identify optimal hyperparameter values\n",
    "    best_C = randomCV.best_params_['C']\n",
    "    best_C_arr.append(best_C)\n",
    "\n",
    "    # Train SVM and output predictions\n",
    "    linearSVM = SVC(kernel='linear', C=best_C)\n",
    "    linearSVM.probability = True\n",
    "    linearSVM.fit(x_train, y_train)\n",
    "    svm_predictions = linearSVM.predict(x_test)\n",
    "    y_pred = linearSVM.predict(x_test)\n",
    "    accuracy_scores.append(metrics.accuracy_score(y_test, y_pred))\n",
    "\n",
    "print(np.array(best_C_arr).mean())\n",
    "print(max(accuracy_scores))\n",
    "print(np.array(accuracy_scores).mean())"
   ]
  },
  {
   "cell_type": "code",
   "execution_count": 8,
   "metadata": {
    "collapsed": false
   },
   "outputs": [
    {
     "data": {
      "image/png": "[encoded data removed]",
      "text/plain": [
       "<matplotlib.figure.Figure at 0x11a3ff7f0>"
      ]
     },
     "metadata": {},
     "output_type": "display_data"
    }
   ],
   "source": [
    "# Use the optimal parameters to make a final model\n",
    "# split data in training and testing sets 70/30 train/test split\n",
    "x_train, x_test, y_train, y_test = train_test_split(x, y, test_size = 553, train_size = 1292)\n",
    "\n",
    "\n",
    "# fit with with best C\n",
    "svm = SVC(C=83.45, kernel='linear', probability=True)\n",
    "svm.fit(x_train, y_train)\n",
    "svm_predictions = svm.predict(x_test)\n",
    "y_pred = svm.predict(x_test)\n",
    "y_pred_prob = svm.predict_proba(x_test)[:, 1]\n",
    "    \n",
    "#first argument is true values, second argument is predicted probabilities\n",
    "fpr, tpr, thresholds = metrics.roc_curve(y_test, y_pred_prob)\n",
    "plt.plot(fpr, tpr)\n",
    "plt.xlim([0.0, 1.0])\n",
    "plt.ylim([0.0, 1.0])\n",
    "plt.title('ROC curve for Linear SVM')\n",
    "plt.xlabel('False Positive Rate (1 - Specificity)')\n",
    "plt.ylabel('True Positive Rate (Sensitivity)')\n",
    "plt.grid(True)"
   ]
  },
  {
   "cell_type": "code",
   "execution_count": 9,
   "metadata": {
    "collapsed": false
   },
   "outputs": [
    {
     "data": {
      "text/plain": [
       "0.92233488241092798"
      ]
     },
     "execution_count": 9,
     "metadata": {},
     "output_type": "execute_result"
    }
   ],
   "source": [
    "metrics.roc_auc_score(y_test, y_pred_prob)"
   ]
  },
  {
   "cell_type": "markdown",
   "metadata": {},
   "source": [
    "#### RBF kernel"
   ]
  },
  {
   "cell_type": "code",
   "execution_count": 4,
   "metadata": {
    "collapsed": false
   },
   "outputs": [
    {
     "name": "stdout",
     "output_type": "stream",
     "text": [
      "0.94575045208\n",
      "0.938517179024\n",
      "10.0717048966\n",
      "1.43509178912\n"
     ]
    }
   ],
   "source": [
    "accuracy_scores = []\n",
    "best_C_arr = []\n",
    "best_g_arr = []\n",
    "\n",
    "# 100 simulations with rbf\n",
    "for i in range(100):    \n",
    "    # split data\n",
    "    x_train, x_test, y_train, y_test = train_test_split(x, y, test_size = 553, train_size = 1292)\n",
    "    Cs = np.linspace(0.001, 1001.0, num=2000, endpoint=False)\n",
    "\n",
    "    # Designate distributions to sample hyperparameters from \n",
    "    np.random.seed(123)\n",
    "    g_range = np.random.uniform(0.0, 2.3, 60).astype(float)\n",
    "    C_range = np.random.normal(0.1, 14.0, 100).astype(float)\n",
    "\n",
    "    # Check that gamma>0 and C>0 \n",
    "    C_range[C_range < 0] = 0.0001\n",
    "\n",
    "    hyperparameters = {'gamma': list(g_range), \n",
    "                        'C': list(C_range)}\n",
    "\n",
    "\n",
    "    # Run randomized search with range of hyperparameter values\n",
    "    svm = SVC(kernel='rbf', probability=True)\n",
    "    randomCV = RandomizedSearchCV(svm, param_distributions=hyperparameters, n_iter=20)\n",
    "    randomCV.fit(x_train, y_train)\n",
    "\n",
    "    # Identify optimal hyperparameter values and add to list\n",
    "    best_gamma  = randomCV.best_params_['gamma']\n",
    "    best_C      = randomCV.best_params_['C']\n",
    "    best_C_arr.append(best_C)\n",
    "    best_g_arr.append(best_gamma)\n",
    "    \n",
    "    # Train SVM and output predictions\n",
    "    rbfSVM = SVC(kernel='rbf', C=best_C, gamma=best_gamma)\n",
    "    rbfSVM.probability=True\n",
    "    rbfSVM.fit(x_train, y_train)\n",
    "    svm_predictions = rbfSVM.predict(x_test)\n",
    "    y_pred_prob = rbfSVM.predict_proba(x_test)[:, 1]\n",
    "    y_pred = rbfSVM.predict(x_test)\n",
    "    accuracy_scores.append(metrics.accuracy_score(y_test, y_pred))\n",
    "    \n",
    "print(max(accuracy_scores))\n",
    "print(np.array(accuracy_scores).mean())\n",
    "print(np.array(best_C_arr).mean())\n",
    "print(np.array(best_g_arr).mean())\n",
    "y_pred = rbfSVM.predict(x_test)\n",
    "y_pred_prob = rbfSVM.predict_proba(x_test)[:, 1]"
   ]
  },
  {
   "cell_type": "code",
   "execution_count": 13,
   "metadata": {
    "collapsed": false
   },
   "outputs": [
    {
     "data": {
      "image/png": "[encoded data removed]",
      "text/plain": [
       "<matplotlib.figure.Figure at 0x119dd4eb8>"
      ]
     },
     "metadata": {},
     "output_type": "display_data"
    }
   ],
   "source": [
    "# Use the optimal parameters to make a final model\n",
    "# split data in training and testing sets 70/30 train/test split\n",
    "x_train, x_test, y_train, y_test = train_test_split(x, y, test_size = 553, train_size = 1292)\n",
    "\n",
    "\n",
    "# fit with with best C and g\n",
    "svm = SVC(C=10.07, kernel='rbf', gamma=1.43,probability=True)\n",
    "svm.fit(x_train, y_train)\n",
    "svm_predictions = svm.predict(x_test)\n",
    "y_pred = svm.predict(x_test)\n",
    "y_pred_prob = svm.predict_proba(x_test)[:, 1]\n",
    "\n",
    "#first argument is true values, second argument is predicted probabilities\n",
    "fpr, tpr, thresholds = metrics.roc_curve(y_test, y_pred_prob)\n",
    "plt.plot(fpr, tpr)\n",
    "plt.xlim([0.0, 1.0])\n",
    "plt.ylim([0.0, 1.0])\n",
    "plt.title('ROC curve for RBF SVM')\n",
    "plt.xlabel('False Positive Rate (1 - Specificity)')\n",
    "plt.ylabel('True Positive Rate (Sensitivity)')\n",
    "plt.grid(True)"
   ]
  },
  {
   "cell_type": "code",
   "execution_count": 12,
   "metadata": {
    "collapsed": false
   },
   "outputs": [
    {
     "data": {
      "text/plain": [
       "0.9235858727052465"
      ]
     },
     "execution_count": 12,
     "metadata": {},
     "output_type": "execute_result"
    }
   ],
   "source": [
    "metrics.roc_auc_score(y_test, y_pred_prob)"
   ]
  },
  {
   "cell_type": "markdown",
   "metadata": {},
   "source": [
    "#### Polynomial Kernel"
   ]
  },
  {
   "cell_type": "code",
   "execution_count": 4,
   "metadata": {
    "collapsed": false
   },
   "outputs": [
    {
     "name": "stdout",
     "output_type": "stream",
     "text": [
      "0.940325497288\n",
      "0.936708860759\n"
     ]
    }
   ],
   "source": [
    "accuracy_scores = []\n",
    "best_C_arr = []\n",
    "best_degree_arr = []\n",
    "\n",
    "# 100 simulations with polynomial\n",
    "for i in range(100): \n",
    "    #Normalize the data to use with range of parameters for polynomial kernel\n",
    "    x1 = preprocessing.scale(x)\n",
    "\n",
    "    # split data\n",
    "    x_train, x_test, y_train, y_test = train_test_split(x1, y, test_size = 553, train_size = 1292)\n",
    "\n",
    "    # range of c and degree values\n",
    "    C_values = np.logspace(-5, 7, 4)\n",
    "    degree_values= [1,2,3,4,5]\n",
    "    hyperparameters = {'C':C_values, 'degree': degree_values}\n",
    "\n",
    "    # Run randomized search with range of values\n",
    "    svm = SVC(kernel='poly', probability=True)\n",
    "    polySVM = RandomizedSearchCV(svm, param_distributions=hyperparameters, n_iter=20)\n",
    "\n",
    "    #fit the model\n",
    "    polySVM.fit(x_train, y_train)\n",
    "\n",
    "    # Identify optimal hyperparameter values\n",
    "    best_degree  = polySVM.best_params_['degree']\n",
    "    best_C      = polySVM.best_params_['C']\n",
    "    best_C_arr.append(best_C)\n",
    "    best_degree_arr.append(best_degree)\n",
    "\n",
    "    # Train SVM and output predictions\n",
    "    polySVM.probability = True\n",
    "    polySVM = SVC(kernel='poly', C=best_C, degree=best_degree)\n",
    "    polySVM.fit(x_train, y_train)\n",
    "    svm_predictions = polySVM.predict(x_test)\n",
    "    y_pred = polySVM.predict(x_test)\n",
    "    accuracy_scores.append(metrics.accuracy_score(y_test, y_pred))\n",
    "\n",
    "print(max(accuracy_scores))\n",
    "print(np.array(accuracy_scores).mean())\n",
    "y_pred = polySVM.predict(x_test)\n",
    "y_pred_prob = polySVM.predict_proba(x_test)[:, 1]"
   ]
  },
  {
   "cell_type": "code",
   "execution_count": 5,
   "metadata": {
    "collapsed": false
   },
   "outputs": [
    {
     "data": {
      "image/png": "[encoded data removed]",
      "text/plain": [
       "<matplotlib.figure.Figure at 0x119cc0550>"
      ]
     },
     "metadata": {},
     "output_type": "display_data"
    }
   ],
   "source": [
    "# Use the optimal parameters to make a final model\n",
    "# split data in training and testing sets 70/30 train/test split\n",
    "x_train, x_test, y_train, y_test = train_test_split(x, y, test_size = 553, train_size = 1292)\n",
    "\n",
    "\n",
    "# fit with with best C and g\n",
    "svm = SVC(C=20.69, kernel='poly', degree=1,probability=True)\n",
    "svm.fit(x_train, y_train)\n",
    "svm_predictions = svm.predict(x_test)\n",
    "y_pred = svm.predict(x_test)\n",
    "y_pred_prob = svm.predict_proba(x_test)[:, 1]\n",
    "\n",
    "#first argument is true values, second argument is predicted probabilities\n",
    "fpr, tpr, thresholds = metrics.roc_curve(y_test, y_pred_prob)\n",
    "plt.plot(fpr, tpr)\n",
    "plt.xlim([0.0, 1.0])\n",
    "plt.ylim([0.0, 1.0])\n",
    "plt.title('ROC curve for Poly SVM')\n",
    "plt.xlabel('False Positive Rate (1 - Specificity)')\n",
    "plt.ylabel('True Positive Rate (Sensitivity)')\n",
    "plt.grid(True)"
   ]
  },
  {
   "cell_type": "code",
   "execution_count": 6,
   "metadata": {
    "collapsed": false
   },
   "outputs": [
    {
     "data": {
      "text/plain": [
       "0.91381904147861592"
      ]
     },
     "execution_count": 6,
     "metadata": {},
     "output_type": "execute_result"
    }
   ],
   "source": [
    "metrics.roc_auc_score(y_test, y_pred_prob)"
   ]
  },
  {
   "cell_type": "markdown",
   "metadata": {
    "collapsed": false
   },
   "source": [
    "## LS-SVM\n",
    "like SVM, we will get the best kernel and hyperparameters for LS-SVM and compare that with SVM performance  \n",
    "Scikit learn does not have an LS-SVM function so matlab will be used for the LS-SVM portion"
   ]
  }
 ],
 "metadata": {
  "kernelspec": {
   "display_name": "Python 3",
   "language": "python",
   "name": "python3"
  },
  "language_info": {
   "codemirror_mode": {
    "name": "ipython",
    "version": 3
   },
   "file_extension": ".py",
   "mimetype": "text/x-python",
   "name": "python",
   "nbconvert_exporter": "python",
   "pygments_lexer": "ipython3",
   "version": "3.5.2"
  }
 },
 "nbformat": 4,
 "nbformat_minor": 0
}
