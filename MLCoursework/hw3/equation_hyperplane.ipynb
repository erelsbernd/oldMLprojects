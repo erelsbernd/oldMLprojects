{
 "cells": [
  {
   "cell_type": "markdown",
   "metadata": {},
   "source": [
    "1 (a.)\n",
    "Find the equation of the hyperplane (in terms of w) WITHOUT solving a quadratic\n",
    "programming (QP) problem. Make a sketch of the problem (i.e., plot the data, unique hyperplane\n",
    "and corresponding dashed lines. Look at the notes on SVM posted on BlackBoard)."
   ]
  },
  {
   "cell_type": "code",
   "execution_count": 31,
   "metadata": {
    "collapsed": false
   },
   "outputs": [],
   "source": [
    "import numpy as np\n",
    "import math\n",
    "import matplotlib.pyplot as plt\n",
    "import pandas as pd\n",
    "%matplotlib inline\n",
    "\n",
    "class_1_x = np.array([[2,2],[2,-2],[-2,-2],[-2,2]])\n",
    "class_2_x = np.array([[1,1],[1,-1],[-1,-1],[-1,1]])\n",
    "\n",
    "class_1_x1 = np.array(class_1_x[:,0])\n",
    "class_1_x2 = np.array(class_1_x[:,1])\n",
    "\n",
    "class_2_x1 = np.array(class_2_x[:,0])\n",
    "class_2_x2 = np.array(class_2_x[:,1])\n",
    "\n",
    "x1 = np.array([2,2,-2,-2,1,1,-1,-1])\n",
    "x2 = np.array([2,-2,-2,2,1,-1,-1,1])\n",
    "c = np.array([1,1,1,1,-1,-1,-1,-1])"
   ]
  },
  {
   "cell_type": "markdown",
   "metadata": {},
   "source": [
    "## Plot the original data"
   ]
  },
  {
   "cell_type": "code",
   "execution_count": 11,
   "metadata": {
    "collapsed": false
   },
   "outputs": [
    {
     "data": {
      "image/png": "[encoded data removed]",
      "text/plain": [
       "<matplotlib.figure.Figure at 0x10aae4198>"
      ]
     },
     "metadata": {},
     "output_type": "display_data"
    }
   ],
   "source": [
    "fig = plt.figure()\n",
    "ax = fig.add_subplot(111)\n",
    "\n",
    "# plot x1,x2 data with c as the color vector, set the line width of the markers to 0\n",
    "ax.scatter(x1, x2, c=c, lw=0);"
   ]
  },
  {
   "cell_type": "markdown",
   "metadata": {},
   "source": [
    "### Use mapping function to calculate x1 and x2 for classes +1 and -1"
   ]
  },
  {
   "cell_type": "code",
   "execution_count": 12,
   "metadata": {
    "collapsed": false
   },
   "outputs": [
    {
     "data": {
      "text/plain": [
       "array([2, 2])"
      ]
     },
     "execution_count": 12,
     "metadata": {},
     "output_type": "execute_result"
    }
   ],
   "source": [
    "class1_phi_1 = np.array([4 - class_1_x2[0] + abs(class_1_x1[0] - class_1_x2[0]),4 - class_1_x1[0] + abs(class_1_x1[0] - class_1_x2[0])])\n",
    "class1_phi_2 = np.array([4 - class_1_x2[1] + abs(class_1_x1[1] - class_1_x2[1]),4 - class_1_x1[1] + abs(class_1_x1[1] - class_1_x2[1])])\n",
    "class1_phi_3 = np.array([4 - class_1_x2[2] + abs(class_1_x1[2] - class_1_x2[2]),4 - class_1_x1[2] + abs(class_1_x1[2] - class_1_x2[2])])\n",
    "class1_phi_4 = np.array([4 - class_1_x2[3] + abs(class_1_x1[3] - class_1_x2[3]),4 - class_1_x1[3] + abs(class_1_x1[3] - class_1_x2[3])])\n",
    "class1_phi_1"
   ]
  },
  {
   "cell_type": "code",
   "execution_count": 13,
   "metadata": {
    "collapsed": false
   },
   "outputs": [
    {
     "data": {
      "text/plain": [
       "array([10,  6])"
      ]
     },
     "execution_count": 13,
     "metadata": {},
     "output_type": "execute_result"
    }
   ],
   "source": [
    "class1_phi_2"
   ]
  },
  {
   "cell_type": "code",
   "execution_count": 14,
   "metadata": {
    "collapsed": false
   },
   "outputs": [
    {
     "data": {
      "text/plain": [
       "array([6, 6])"
      ]
     },
     "execution_count": 14,
     "metadata": {},
     "output_type": "execute_result"
    }
   ],
   "source": [
    "class1_phi_3"
   ]
  },
  {
   "cell_type": "code",
   "execution_count": 15,
   "metadata": {
    "collapsed": false
   },
   "outputs": [
    {
     "data": {
      "text/plain": [
       "array([ 6, 10])"
      ]
     },
     "execution_count": 15,
     "metadata": {},
     "output_type": "execute_result"
    }
   ],
   "source": [
    "class1_phi_4"
   ]
  },
  {
   "cell_type": "markdown",
   "metadata": {},
   "source": [
    "Because the square root of 1^2 + 1^2 is square root of 2 and that is not greater than 2 so all values of class 2 stay unchanged"
   ]
  },
  {
   "cell_type": "markdown",
   "metadata": {},
   "source": [
    "### Plot the mapping function values"
   ]
  },
  {
   "cell_type": "code",
   "execution_count": 16,
   "metadata": {
    "collapsed": false
   },
   "outputs": [
    {
     "data": {
      "image/png": "[encoded data removed]",
      "text/plain": [
       "<matplotlib.figure.Figure at 0x107a2c048>"
      ]
     },
     "metadata": {},
     "output_type": "display_data"
    }
   ],
   "source": [
    "phi_x1 = np.array([2,10,6,6,1,1,-1,-1])\n",
    "phi_x2 = np.array([2,6,6,10,1,-1,-1,1])\n",
    "\n",
    "fig2 = plt.figure(figsize=(14,8))\n",
    "ax2 = fig2.add_subplot(111)\n",
    "\n",
    "# plot x1,x2 data with c as the color vector, set the line width of the markers to 0\n",
    "ax2.scatter(phi_x1, phi_x2, c=c, lw=0);"
   ]
  },
  {
   "cell_type": "markdown",
   "metadata": {},
   "source": [
    "### Plot the hyperplane with dashed lines through support vectors (2,2) and (1,1)"
   ]
  },
  {
   "cell_type": "markdown",
   "metadata": {},
   "source": [
    "From looking at the above graph we can see that points 2,2 and 1,1 would make good choices for support vectors. \n",
    "We can plug these points into the equations for the dashed lines and w.  "
   ]
  },
  {
   "cell_type": "code",
   "execution_count": 17,
   "metadata": {
    "collapsed": false
   },
   "outputs": [
    {
     "data": {
      "image/png": "[encoded data removed]",
      "text/plain": [
       "<matplotlib.figure.Figure at 0x107a01320>"
      ]
     },
     "metadata": {},
     "output_type": "display_data"
    }
   ],
   "source": [
    "phi_x1 = np.array([2,1,1,-1,-1])\n",
    "phi_x2 = np.array([2,1,-1,-1,1])\n",
    "c = np.array([1,-1,-1,-1,-1])\n",
    "\n",
    "fig2 = plt.figure(figsize=(14,8))\n",
    "ax2 = fig2.add_subplot(111)\n",
    "\n",
    "# plot x1,x2 data with c as the color vector, set the line width of the markers to 0\n",
    "ax2.scatter(phi_x1, phi_x2, c=c, lw=0);\n",
    "\n",
    "# plot the equation of the line between support vectors (2,2) and (1,1)\n",
    "#x_vals = np.array([-2,-1,0,1,2,3])\n",
    "#y_vals = np.array([5,4,3,2,1,0])\n",
    "x_vals = np.linspace(-2.0, 3.0 ,num=5,endpoint=False)\n",
    "y_vals = np.linspace(5,0,num=5,endpoint=False)\n",
    "\n",
    "#plot the equation of the dashed line through support vector (2,2)\n",
    "sp1_x_vals = np.linspace(-2.0, 4.0 ,num=5,endpoint=False)\n",
    "sp1_y_vals = np.linspace(6.0, 0.0 ,num=5,endpoint=False)\n",
    "\n",
    "\n",
    "#plot the equation of the dashed line through support vector (1,1)\n",
    "sp2_x_vals = np.linspace(-2.0, 3.0 ,num=5,endpoint=False)\n",
    "sp2_y_vals = np.linspace(4.0, -1.0 ,num=5,endpoint=False)\n",
    "\n",
    "ax2.plot(x_vals,y_vals,'-')\n",
    "ax2.plot(sp1_x_vals,sp1_y_vals,'r--')\n",
    "ax2.plot(sp2_x_vals,sp2_y_vals,'r--');"
   ]
  },
  {
   "cell_type": "markdown",
   "metadata": {},
   "source": [
    "$$y_{k}[(w_{1}x_{1}+w_{2}x_{2}+b] = 1  $$  \n",
    "$$y_{k}[(w_{1}x_{1}+w_{2}x_{2}+b] = 1  $$  \n",
    "$$ 1(w_{1}x1_{sv1}+w_{2}x2_{sv1}+b)=1  $$ \n",
    "$$ -1(w_1x1_{sv2}+w_{2}x2_{sv2}+b)=1   $$  \n",
    "\n",
    "(2,2) and (1,1)  \n",
    "$$1(w_{1}*2+w_{2}*2 +b) = 1  \\Rightarrow 2w_{1}+2w_{2}+b = 1$$  \n",
    "$$-1(w_{1}+w_{2}+b) = 1  \\Rightarrow w_{1}+w_{2}+b = -1$$\n",
    "multiply second equation by 2 and subtract from first:\n",
    "$$[2w_{1}+2w_{2}+b = 1] - [2w_{1}+2w_{2}+2b = -2]  \\Rightarrow  0+0-b=3\\Rightarrow b=-3 $$  \n",
    "b = -3\n",
    "\n",
    "$$2w_{1}+2w_{2}-3 = 1  $$ \n",
    "$$w_{1}+w_{2}-3 = -1  $$ \n",
    "subtract 2nd from first $$\\Rightarrow  w_{1}+w_{2}+0=2 \\Rightarrow w_{1}+w_{2}=2 $$  \n",
    "\n",
    "$$\\sum_{k=1}^{n} \\alpha_{k} y_{k}\\varphi(x_{k}) = w$$  \n",
    "$$[\\alpha_{1}(1){2 \\choose 2}] + [\\alpha_{2}(-1){1 \\choose 1}]= w$$\n",
    "$$2\\alpha_{1} - \\alpha_{2} = w_{1}$$\n",
    "$$2\\alpha_{1} - \\alpha_{2} = w_{2}$$\n",
    "\n",
    "plug in to $$w_{1} + w_{2} = 2$$\n",
    "$$[2\\alpha_{1} - \\alpha_{2}] + [2\\alpha_{1} - \\alpha_{2}] = 2  $$\n",
    "$$\\Rightarrow 2[2\\alpha_{1} - \\alpha_{2}] = 2 $$  \n",
    "$$ \\therefore 1+1=2, w_{1}=w_{2}=1  $$  "
   ]
  },
  {
   "cell_type": "markdown",
   "metadata": {},
   "source": [
    "###### 1 b.) Calculate the margin.  \n",
    "    We know that   \n",
    "    $$2\\alpha_{1} - \\alpha_{2} = w_{1}$$\n",
    "    $$2\\alpha_{1} - \\alpha_{2} = w_{2}$$ \n",
    "\n",
    "plug these in to our previous equation  $$w_{1} + w_{2} = 2$$  \n",
    "$$[2\\alpha_{1} - \\alpha_{2}] + [2\\alpha_{1} - \\alpha_{2}] = 2  $$\n",
    "$$\\Rightarrow 2[2\\alpha_{1} - \\alpha_{2}] = 2 $$  \n",
    "$$ \\therefore 1+1=2, w_{1}=w_{2}=1  $$  \n",
    "  \n",
    "$$\\sqrt{1^2+1^2} = \\sqrt{2} = \\|w\\|$$  \n",
    "\n",
    "equation for margin  \n",
    "$$margin = \\frac{2}{\\|w\\|}  $$ $$\\Rightarrow \\frac{2}{\\sqrt{2}} $$\n",
    "$$\\therefore margin = \\sqrt{2}  $$  "
   ]
  },
  {
   "cell_type": "markdown",
   "metadata": {},
   "source": [
    "##### 1 c.) Find the alphas\n",
    "$$\\sum_{k=1}^{n(number of support vectors)} \\alpha_{k} y_{k} = w$$  \n",
    "$$\\alpha_{1}y_{1} + \\alpha_{2}y_{2}= 0$$\n",
    "$$\\alpha_{1}(1) + \\alpha_{2}(-1)= 0$$\n",
    "$$\\alpha_{1} - \\alpha_{2} = 0 $$ \n",
    "$$\\alpha_{1} = \\alpha_{2}  $$  \n",
    "$$\\alpha_{1} = \\alpha_{2} = 1 $$"
   ]
  },
  {
   "cell_type": "markdown",
   "metadata": {
    "collapsed": true
   },
   "source": [
    "### Perform SVM with Matlab or R with RBF kernel (hyper parameter included) and plot the final result. Is this result different from the one you obtained by hand?"
   ]
  },
  {
   "cell_type": "code",
   "execution_count": 54,
   "metadata": {
    "collapsed": true
   },
   "outputs": [],
   "source": [
    "from sklearn import svm\n",
    "from sklearn.grid_search import GridSearchCV\n",
    "from sklearn.svm import SVC"
   ]
  },
  {
   "cell_type": "code",
   "execution_count": 55,
   "metadata": {
    "collapsed": false
   },
   "outputs": [],
   "source": [
    "data = np.array([[2,2,1],[2,-2,1],[-2,-2,1],[-2,2,1],[1,1,-1],[1,-1,-1],[-1,-1,-1],[-1,1,-1]])\n",
    "x = data[:,0:2]\n",
    "y = data[:,2]"
   ]
  },
  {
   "cell_type": "code",
   "execution_count": 50,
   "metadata": {
    "collapsed": false
   },
   "outputs": [
    {
     "data": {
      "image/png": "[encoded data removed]",
      "text/plain": [
       "<matplotlib.figure.Figure at 0x10b5142b0>"
      ]
     },
     "metadata": {},
     "output_type": "display_data"
    }
   ],
   "source": [
    "C = 1.0  # SVM regularization parameter\n",
    "\n",
    "data = np.array([[2,2,1],[2,-2,1],[-2,-2,1],[-2,2,1],[1,1,-1],[1,-1,-1],[-1,-1,-1],[-1,1,-1]])\n",
    "x = data[:,0:2]\n",
    "y = data[:,2]\n",
    "\n",
    "\n",
    "clf = svm.SVC(kernel = 'rbf',  gamma=0.7, C=C )\n",
    "clf.fit(x, y)\n",
    "\n",
    "h = .02  # step size in the mesh\n",
    "# create a mesh to plot in\n",
    "x_min, x_max = x[:, 0].min() - 1, x[:, 0].max() + 1\n",
    "y_min, y_max = x[:, 1].min() - 1, x[:, 1].max() + 1\n",
    "xx, yy = np.meshgrid(np.arange(x_min, x_max, h),\n",
    "                     np.arange(y_min, y_max, h))\n",
    "\n",
    "\n",
    "# Plot the decision boundary. For that, we will assign a color to each\n",
    "# point in the mesh [x_min, m_max]x[y_min, y_max].\n",
    "Z = clf.predict(np.c_[xx.ravel(), yy.ravel()])\n",
    "\n",
    "# Put the result into a color plot\n",
    "Z = Z.reshape(xx.shape)\n",
    "plt.contour(xx, yy, Z, cmap=plt.cm.Paired)\n",
    "plt.xlim(xx.min(), xx.max())\n",
    "plt.ylim(yy.min(), yy.max())\n",
    "plt.xticks([w for w in range(-4,5)])\n",
    "plt.yticks([w for w in range(-4,5)])\n",
    "plt.title('SVM with RBF kernel')\n",
    "\n",
    "# Plot also the training points\n",
    "plt.scatter(x[:, 0], x[:, 1], c=y, cmap=plt.cm.coolwarm)\n",
    "\n",
    "plt.show();"
   ]
  },
  {
   "cell_type": "code",
   "execution_count": 52,
   "metadata": {
    "collapsed": false
   },
   "outputs": [
    {
     "data": {
      "text/plain": [
       "array([[ 1.,  1.],\n",
       "       [ 1., -1.],\n",
       "       [-1., -1.],\n",
       "       [-1.,  1.],\n",
       "       [ 2.,  2.],\n",
       "       [ 2., -2.],\n",
       "       [-2., -2.],\n",
       "       [-2.,  2.]])"
      ]
     },
     "execution_count": 52,
     "metadata": {},
     "output_type": "execute_result"
    }
   ],
   "source": [
    "clf.support_vectors_"
   ]
  },
  {
   "cell_type": "code",
   "execution_count": 53,
   "metadata": {
    "collapsed": false
   },
   "outputs": [
    {
     "data": {
      "text/plain": [
       "<bound method BaseSVC.decision_function of SVC(C=1.0, cache_size=200, class_weight=None, coef0=0.0,\n",
       "  decision_function_shape=None, degree=3, gamma=0.7, kernel='rbf',\n",
       "  max_iter=-1, probability=False, random_state=None, shrinking=True,\n",
       "  tol=0.001, verbose=False)>"
      ]
     },
     "execution_count": 53,
     "metadata": {},
     "output_type": "execute_result"
    }
   ],
   "source": [
    "clf.decision_function"
   ]
  },
  {
   "cell_type": "markdown",
   "metadata": {},
   "source": [
    "The difference in graphs is due to the different kernels. Using the provided phi function, we get a linear decision boundary in the hyperspace. We also only have two support vectors which are (2,2) and (1,1).   \n",
    "Using the rbf kernel with SVM in the final graph we can see the decision boundary is nonlinear and is more circular in shape. All the vectors are support vectors (see above printout of clf.support_vectors_). "
   ]
  },
  {
   "cell_type": "code",
   "execution_count": null,
   "metadata": {
    "collapsed": true
   },
   "outputs": [],
   "source": []
  }
 ],
 "metadata": {
  "kernelspec": {
   "display_name": "Python 3",
   "language": "python",
   "name": "python3"
  },
  "language_info": {
   "codemirror_mode": {
    "name": "ipython",
    "version": 3
   },
   "file_extension": ".py",
   "mimetype": "text/x-python",
   "name": "python",
   "nbconvert_exporter": "python",
   "pygments_lexer": "ipython3",
   "version": "3.5.2"
  }
 },
 "nbformat": 4,
 "nbformat_minor": 0
}
