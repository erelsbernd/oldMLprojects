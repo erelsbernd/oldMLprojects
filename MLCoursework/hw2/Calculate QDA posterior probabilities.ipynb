{
 "cells": [
  {
   "cell_type": "code",
   "execution_count": 51,
   "metadata": {
    "collapsed": true
   },
   "outputs": [],
   "source": [
    "import numpy as np\n",
    "from math import exp, pi\n",
    "mu0 = np.array([[0.046],[-1.01927]])\n",
    "mu1 = np.array([[-0.312267],[2.3279]])\n",
    "sigma0 = np.array([[6.56265, 6.0421], [6.0421, 5.94655]])\n",
    "sigma1 = np.array([[1.58482, -0.328545], [-0.328545, 1.28271]])\n",
    "sigma0_inverse = np.array([[2.36147, -2.39942], [-2.39942, 2.60614]])\n",
    "sigma1_inverse = np.array([[0.66637, 0.17068], [0.17068, 1.28271]])\n",
    "sigma0_determinant = 2.5181539475\n",
    "sigma1_determinant = 1.924922645175\n",
    "x = np.array([[0],[1]])"
   ]
  },
  {
   "cell_type": "code",
   "execution_count": 52,
   "metadata": {
    "collapsed": false
   },
   "outputs": [
    {
     "name": "stdout",
     "output_type": "stream",
     "text": [
      "[[-0.046    2.01927]]\n",
      "[[-0.046  ]\n",
      " [ 2.01927]]\n",
      "[[ 0.312267 -1.3279  ]]\n",
      "[[ 0.312267]\n",
      " [-1.3279  ]]\n"
     ]
    }
   ],
   "source": [
    "x_minus_mu0_transpose = (x-mu0).T\n",
    "print(x_minus_mu0_transpose)\n",
    "x_minus_mu0 = np.array(x-mu0)\n",
    "print(x_minus_mu0)\n",
    "x_minus_mu1_transpose = (x-mu1).T\n",
    "print(x_minus_mu1_transpose)\n",
    "x_minus_mu1 = np.array(x-mu1)\n",
    "print(x_minus_mu1)"
   ]
  },
  {
   "cell_type": "code",
   "execution_count": 53,
   "metadata": {
    "collapsed": false
   },
   "outputs": [
    {
     "data": {
      "text/plain": [
       "array([[ 0.00019719]])"
      ]
     },
     "execution_count": 53,
     "metadata": {},
     "output_type": "execute_result"
    }
   ],
   "source": [
    "post_prob_0_numerator = 0.5 * (1/(2*np.pi*(sigma0_determinant**0.5)) * \\\n",
    "                               np.exp(-0.5 * x_minus_mu0_transpose.dot(sigma0_inverse).dot(x_minus_mu0)))\n",
    "post_prob_0_numerator"
   ]
  },
  {
   "cell_type": "code",
   "execution_count": 54,
   "metadata": {
    "collapsed": false
   },
   "outputs": [
    {
     "name": "stdout",
     "output_type": "stream",
     "text": [
      "0.05014746655259076\n",
      "[[-5.53857648]]\n"
     ]
    }
   ],
   "source": [
    "part1 = 0.5 * (1/(2*np.pi*(sigma0_determinant**0.5)))\n",
    "print(part1)\n",
    "part2 = -0.5 * x_minus_mu0_transpose.dot(sigma0_inverse).dot(x_minus_mu0)\n",
    "print(part2)"
   ]
  },
  {
   "cell_type": "code",
   "execution_count": 55,
   "metadata": {
    "collapsed": false
   },
   "outputs": [
    {
     "data": {
      "text/plain": [
       "array([[ 0.01923362]])"
      ]
     },
     "execution_count": 55,
     "metadata": {},
     "output_type": "execute_result"
    }
   ],
   "source": [
    "post_prob_1_numerator = 0.5 * (1/(2*np.pi*(sigma1_determinant**0.5)) * \\\n",
    "                               np.exp(-0.5 * x_minus_mu1_transpose.dot(sigma1_inverse).dot(x_minus_mu1)))\n",
    "post_prob_1_numerator"
   ]
  },
  {
   "cell_type": "code",
   "execution_count": 56,
   "metadata": {
    "collapsed": true
   },
   "outputs": [],
   "source": [
    "denominator = post_prob_0_numerator + post_prob_1_numerator"
   ]
  },
  {
   "cell_type": "code",
   "execution_count": 57,
   "metadata": {
    "collapsed": false
   },
   "outputs": [
    {
     "data": {
      "text/plain": [
       "array([[ 0.01943081]])"
      ]
     },
     "execution_count": 57,
     "metadata": {},
     "output_type": "execute_result"
    }
   ],
   "source": [
    "denominator"
   ]
  },
  {
   "cell_type": "code",
   "execution_count": 58,
   "metadata": {
    "collapsed": false
   },
   "outputs": [
    {
     "data": {
      "text/plain": [
       "array([[ 0.0101481]])"
      ]
     },
     "execution_count": 58,
     "metadata": {},
     "output_type": "execute_result"
    }
   ],
   "source": [
    "post_prob_0 = post_prob_0_numerator / denominator\n",
    "post_prob_0"
   ]
  },
  {
   "cell_type": "code",
   "execution_count": 59,
   "metadata": {
    "collapsed": false
   },
   "outputs": [],
   "source": [
    "post_prob_1 = post_prob_1_numerator / denominator\n",
    "post_prob_1"
   ]
  },
  {
   "cell_type": "code",
   "execution_count": null,
   "metadata": {
    "collapsed": true
   },
   "outputs": [],
   "source": []
  }
 ],
 "metadata": {
  "kernelspec": {
   "display_name": "Python 3",
   "language": "python",
   "name": "python3"
  },
  "language_info": {
   "codemirror_mode": {
    "name": "ipython",
    "version": 3
   },
   "file_extension": ".py",
   "mimetype": "text/x-python",
   "name": "python",
   "nbconvert_exporter": "python",
   "pygments_lexer": "ipython3",
   "version": "3.5.2"
  }
 },
 "nbformat": 4,
 "nbformat_minor": 0
}
