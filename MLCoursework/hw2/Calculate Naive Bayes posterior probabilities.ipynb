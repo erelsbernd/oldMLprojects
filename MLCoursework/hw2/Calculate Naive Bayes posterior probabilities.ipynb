{
 "cells": [
  {
   "cell_type": "code",
   "execution_count": 69,
   "metadata": {
    "collapsed": false
   },
   "outputs": [
    {
     "name": "stdout",
     "output_type": "stream",
     "text": [
      "[[ 0.6585  0.2444]\n",
      " [ 2.246   0.5281]\n",
      " [-2.7665 -3.8303]]\n",
      "[[-1.2565  3.4912]\n",
      " [-0.7973  1.2288]\n",
      " [ 1.117   2.2637]]\n"
     ]
    }
   ],
   "source": [
    "import numpy as np\n",
    "from math import exp, pi\n",
    "data = np.array([[0.6585,0.2444,0],[2.2460,0.5281,0],[-2.7665,-3.8303,0],[-1.2565,3.4912,1],[-0.7973,1.2288,1],[1.1170,2.2637,1]])\n",
    "class0_data = data[0:3,0:2]\n",
    "print(class0_data)\n",
    "class1_data = data[3:6,0:2]\n",
    "print(class1_data)"
   ]
  },
  {
   "cell_type": "code",
   "execution_count": 70,
   "metadata": {
    "collapsed": false
   },
   "outputs": [
    {
     "name": "stdout",
     "output_type": "stream",
     "text": [
      "0.046\n",
      "2.09167496678\n",
      "4.37510416667\n"
     ]
    }
   ],
   "source": [
    "from scipy.stats import norm\n",
    "class0_feature1_mu, class0_feature1_std = norm.fit(class0_data[:,0].T)\n",
    "#class0_feature1_mu = np.sum(class0_data[:,0])\n",
    "class0_feature1_var = norm.var(class0_feature1_mu, class0_feature1_std)\n",
    "print(class0_feature1_mu)\n",
    "print(class0_feature1_std)\n",
    "print(class0_feature1_var)"
   ]
  },
  {
   "cell_type": "code",
   "execution_count": 71,
   "metadata": {
    "collapsed": false
   },
   "outputs": [
    {
     "name": "stdout",
     "output_type": "stream",
     "text": [
      "-1.01926666667\n",
      "1.99107219413\n",
      "3.96436848222\n"
     ]
    }
   ],
   "source": [
    "class0_feature2_mu, class0_feature2_std = norm.fit(class0_data[:,1].T)\n",
    "#class0_feature2_mu = np.sum(class0_data[:,1])\n",
    "class0_feature2_var = norm.var(class0_feature2_mu, class0_feature2_std)\n",
    "print(class0_feature2_mu)\n",
    "print(class0_feature2_std)\n",
    "print(class0_feature2_var)"
   ]
  },
  {
   "cell_type": "code",
   "execution_count": 72,
   "metadata": {
    "collapsed": false
   },
   "outputs": [
    {
     "name": "stdout",
     "output_type": "stream",
     "text": [
      "-0.312266666667\n",
      "1.02788409312\n",
      "1.05654570889\n"
     ]
    }
   ],
   "source": [
    "class1_feature1_mu, class1_feature1_std = norm.fit(class1_data[:,0].T)\n",
    "#class1_feature1_mu = np.sum(class1_data[:,0])\n",
    "class1_feature1_var = norm.var(class1_feature1_mu, class1_feature1_std)\n",
    "print(class1_feature1_mu)\n",
    "print(class1_feature1_std)\n",
    "print(class1_feature1_var)"
   ]
  },
  {
   "cell_type": "code",
   "execution_count": 73,
   "metadata": {
    "collapsed": false
   },
   "outputs": [
    {
     "name": "stdout",
     "output_type": "stream",
     "text": [
      "2.3279\n",
      "0.924735879409\n",
      "0.855136446667\n"
     ]
    }
   ],
   "source": [
    "class1_feature2_mu, class1_feature2_std = norm.fit(class1_data[:,1].T)\n",
    "#class1_feature2_mu = np.sum(class1_data[:,1])\n",
    "class1_feature2_var = norm.var(class1_feature2_mu, class1_feature2_std)\n",
    "print(class1_feature2_mu)\n",
    "print(class1_feature2_std)\n",
    "print(class1_feature2_var)"
   ]
  },
  {
   "cell_type": "code",
   "execution_count": 74,
   "metadata": {
    "collapsed": false
   },
   "outputs": [
    {
     "name": "stdout",
     "output_type": "stream",
     "text": [
      "0.190682503283\n",
      "0.119807076696\n",
      "0.370616728258\n",
      "0.153860760916\n"
     ]
    }
   ],
   "source": [
    "class0_feature1_pdf = norm.pdf(0, loc=class0_feature1_mu, scale=class0_feature1_std)\n",
    "print(class0_feature1_pdf)\n",
    "class0_feature2_pdf = norm.pdf(1, loc=class0_feature2_mu, scale=class0_feature2_std)\n",
    "print(class0_feature2_pdf)\n",
    "class1_feature1_pdf = norm.pdf(0, loc=class1_feature1_mu, scale=class1_feature1_std)\n",
    "print(class1_feature1_pdf)\n",
    "class1_feature2_pdf = norm.pdf(1, loc=class1_feature2_mu, scale=class1_feature2_std)\n",
    "print(class1_feature2_pdf)"
   ]
  },
  {
   "cell_type": "code",
   "execution_count": 75,
   "metadata": {
    "collapsed": false
   },
   "outputs": [
    {
     "name": "stdout",
     "output_type": "stream",
     "text": [
      "0.286034138033\n"
     ]
    }
   ],
   "source": [
    "prob_y0 = (0.5*class0_feature1_pdf*class0_feature2_pdf)/((0.5*class0_feature1_pdf*class0_feature2_pdf)+ \\\n",
    "                                                         (0.5*class1_feature1_pdf*class1_feature2_pdf))\n",
    "print(prob_y0)"
   ]
  },
  {
   "cell_type": "code",
   "execution_count": 76,
   "metadata": {
    "collapsed": false
   },
   "outputs": [
    {
     "name": "stdout",
     "output_type": "stream",
     "text": [
      "0.713965861967\n"
     ]
    }
   ],
   "source": [
    "prob_y1 = (0.5*class1_feature1_pdf*class1_feature2_pdf)/((0.5*class0_feature1_pdf*class0_feature2_pdf)+ \\\n",
    "                                                         (0.5*class1_feature1_pdf*class1_feature2_pdf))\n",
    "print(prob_y1)"
   ]
  },
  {
   "cell_type": "code",
   "execution_count": 77,
   "metadata": {
    "collapsed": true
   },
   "outputs": [],
   "source": [
    "import pandas as pd\n",
    "from sklearn.preprocessing import label_binarize\n",
    "from sklearn.cross_validation import train_test_split\n",
    "from sklearn import cross_validation\n",
    "from sklearn.naive_bayes import GaussianNB\n",
    "from sklearn import metrics"
   ]
  },
  {
   "cell_type": "code",
   "execution_count": 78,
   "metadata": {
    "collapsed": false
   },
   "outputs": [
    {
     "data": {
      "text/html": [
       "<div>\n",
       "<table border=\"1\" class=\"dataframe\">\n",
       "  <thead>\n",
       "    <tr style=\"text-align: right;\">\n",
       "      <th></th>\n",
       "      <th>X0</th>\n",
       "      <th>X1</th>\n",
       "      <th>label</th>\n",
       "    </tr>\n",
       "  </thead>\n",
       "  <tbody>\n",
       "    <tr>\n",
       "      <th>0</th>\n",
       "      <td>0.6585</td>\n",
       "      <td>0.2444</td>\n",
       "      <td>0.0</td>\n",
       "    </tr>\n",
       "    <tr>\n",
       "      <th>1</th>\n",
       "      <td>2.2460</td>\n",
       "      <td>0.5281</td>\n",
       "      <td>0.0</td>\n",
       "    </tr>\n",
       "    <tr>\n",
       "      <th>2</th>\n",
       "      <td>-2.7665</td>\n",
       "      <td>-3.8303</td>\n",
       "      <td>0.0</td>\n",
       "    </tr>\n",
       "    <tr>\n",
       "      <th>3</th>\n",
       "      <td>-1.2565</td>\n",
       "      <td>3.4912</td>\n",
       "      <td>1.0</td>\n",
       "    </tr>\n",
       "    <tr>\n",
       "      <th>4</th>\n",
       "      <td>-0.7973</td>\n",
       "      <td>1.2288</td>\n",
       "      <td>1.0</td>\n",
       "    </tr>\n",
       "  </tbody>\n",
       "</table>\n",
       "</div>"
      ],
      "text/plain": [
       "       X0      X1  label\n",
       "0  0.6585  0.2444    0.0\n",
       "1  2.2460  0.5281    0.0\n",
       "2 -2.7665 -3.8303    0.0\n",
       "3 -1.2565  3.4912    1.0\n",
       "4 -0.7973  1.2288    1.0"
      ]
     },
     "execution_count": 78,
     "metadata": {},
     "output_type": "execute_result"
    }
   ],
   "source": [
    "col_names = ['X0','X1', 'label']\n",
    "data = pd.DataFrame(data, columns = col_names)\n",
    "data.head()"
   ]
  },
  {
   "cell_type": "code",
   "execution_count": 79,
   "metadata": {
    "collapsed": true
   },
   "outputs": [],
   "source": [
    "feature_cols = ['X0', 'X1']\n",
    "x = data[feature_cols]\n",
    "y = data.label"
   ]
  },
  {
   "cell_type": "code",
   "execution_count": 83,
   "metadata": {
    "collapsed": false
   },
   "outputs": [
    {
     "name": "stdout",
     "output_type": "stream",
     "text": [
      "[[ 0.28603414  0.71396586]]\n"
     ]
    }
   ],
   "source": [
    "# use Gaussian NB to validate results\n",
    "model_gaussianNB = GaussianNB()\n",
    "model_gaussianNB.fit(x,y)\n",
    "predict = np.array([0,1])\n",
    "predict = predict.reshape(1,-1)\n",
    "print(model_gaussianNB.predict_proba(predict))"
   ]
  },
  {
   "cell_type": "code",
   "execution_count": null,
   "metadata": {
    "collapsed": true
   },
   "outputs": [],
   "source": []
  }
 ],
 "metadata": {
  "kernelspec": {
   "display_name": "Python 3",
   "language": "python",
   "name": "python3"
  },
  "language_info": {
   "codemirror_mode": {
    "name": "ipython",
    "version": 3
   },
   "file_extension": ".py",
   "mimetype": "text/x-python",
   "name": "python",
   "nbconvert_exporter": "python",
   "pygments_lexer": "ipython3",
   "version": "3.5.2"
  }
 },
 "nbformat": 4,
 "nbformat_minor": 0
}
